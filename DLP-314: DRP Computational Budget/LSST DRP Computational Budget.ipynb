{
 "cells": [
  {
   "cell_type": "markdown",
   "metadata": {},
   "source": [
    "# LSST DRP Computational Requirements\n",
    "\n",
    "Created September 2015 to satisfy the requirements of the DRP Computational Budget key performance metric (DR1; see DLP-314, DM-3083, DM-3897). See also LDM-138, LSE-81. This is based on a Python script provided by K-T Lim."
   ]
  },
  {
   "cell_type": "code",
   "execution_count": 2,
   "metadata": {
    "collapsed": false
   },
   "outputs": [],
   "source": [
    "# Disable ShimWarnings caused by AstroPy assuming an older version of IPython\n",
    "from IPython.utils.shimmodule import ShimWarning\n",
    "import warnings\n",
    "warnings.simplefilter(\"ignore\", category=ShimWarning)\n",
    "from astropy import units as u\n",
    "from math import pi"
   ]
  },
  {
   "cell_type": "markdown",
   "metadata": {},
   "source": [
    "We ultimately need to end up with a value in TFLOPS (ie, Tera FLating point Operations Per Second). We make measurements of execution time on particular computers, of known clock speed (cycles per second), and convert them to FLOPS as required."
   ]
  },
  {
   "cell_type": "code",
   "execution_count": 3,
   "metadata": {
    "collapsed": true
   },
   "outputs": [],
   "source": [
    "flop = u.def_unit('FLOP') # FLoating point OPeration\n",
    "cycle = u.def_unit('cycle', 4*0.68*flop) # Conversion rate based on average efficiency of 2011 TOP500\n",
    "tflops = u.def_unit('TFLOPS', (flop*10**12)/(1*u.second))"
   ]
  },
  {
   "cell_type": "markdown",
   "metadata": {},
   "source": [
    "The `Telescope` class describes the instrument we are using to observe. We have only one: LSST itself."
   ]
  },
  {
   "cell_type": "code",
   "execution_count": 4,
   "metadata": {
    "collapsed": true
   },
   "outputs": [],
   "source": [
    "class Telescope(object):\n",
    "    def __init__(self, nCcds, nFilters, fieldOfView):\n",
    "        self.nCcds = nCcds\n",
    "        self.nFilters = nFilters\n",
    "        self.fieldOfView = fieldOfView\n",
    "    \n",
    "lsst = Telescope(189, 6, pi*(1.75*u.degree)**2)"
   ]
  },
  {
   "cell_type": "markdown",
   "metadata": {},
   "source": [
    "The `Survey` class describes the survey being carried out -- including duration, number of objects observerd, etc. For this exercise, we are using the six months of the LSST wide & fast survey."
   ]
  },
  {
   "cell_type": "code",
   "execution_count": 5,
   "metadata": {
    "collapsed": false
   },
   "outputs": [],
   "source": [
    "class Survey(object):\n",
    "    def __init__(self, duration, visits, epochs, fields, stars, surveyStars, forcedSources, computeTime):\n",
    "        self.duration = duration            # Survey duration\n",
    "        self.nVisits = visits               # Total number of visits in the survey\n",
    "        self.nEpochs = epochs               # Number of visits to any given object\n",
    "        self.nFields = fields               # Survey area expressed in terms of fields-of-view\n",
    "        self.nStars = stars                 # Total number of stars\n",
    "        self.nOutOfPlaneStars = surveyStars # Stars observed out of the galactic plane\n",
    "        self.nForcedSources = forcedSources # Total number of forced source measurements\n",
    "        self.computeTime = computeTime\n",
    "\n",
    "# Back of envelope calculation of number of fields; prefer Science Requirements\n",
    "#surveyArea = 2*pi*u.steradian\n",
    "#fields = surveyArea / lsst.fieldOfView\n",
    "\n",
    "lsstWideAndFastDR1 = Survey(0.5*u.year,\n",
    "                            2750000 / 20, # OpSim + 10% margin\n",
    "                            1056 / 20,\n",
    "                            2604,         # Science Requirements\n",
    "                            14706186098,  # LSE-81 D56\n",
    "                            5141033287,   # LSE-81 E56\n",
    "                            1.19507E+12,  # LSE-81 H56  \n",
    "                            9*u.week)"
   ]
  },
  {
   "cell_type": "markdown",
   "metadata": {},
   "source": [
    "The `Computer` class describes the various computers we have used to make measurements in terms of their clock speed."
   ]
  },
  {
   "cell_type": "code",
   "execution_count": 12,
   "metadata": {
    "collapsed": true
   },
   "outputs": [],
   "source": [
    "class Computer(object):\n",
    "    def __init__(self, clockSpeed):\n",
    "        self.clockSpeed = clockSpeed\n",
    "\n",
    "abe = Computer(2.33e9 * cycle / u.second)      # Machine used for PT 1.1 processing\n",
    "lsst_dev = Computer(3.1e9 * cycle / u.second)  # lsst-dev.ncsa.illinois.edu\n",
    "tiger3 = Computer(2.8e9 * cycle / u.second)    # tiger3.princeton.edu\n",
    "ksk_mbp = Computer(3e9 * cycle / u.second)     # Macbook Pro used for difference imaging tests at Bremerton"
   ]
  },
  {
   "cell_type": "markdown",
   "metadata": {},
   "source": [
    "Next, we define the scientific and algorithmic approaches being taken."
   ]
  },
  {
   "cell_type": "code",
   "execution_count": 13,
   "metadata": {
    "collapsed": true
   },
   "outputs": [],
   "source": [
    "class CoaddParameters(object):\n",
    "    def __init__(self, pixelDensityFactor, imageReuse, deblendFactor):\n",
    "        # Increased pixel density factor for co-adds\n",
    "        self.pixelDensityFactor = pixelDensityFactor\n",
    "        # Number of times each image is reused in making deep coadds\n",
    "        self.imageReuse = imageReuse\n",
    "        # Deblend factor: extra coadd measurement time due to deblending\n",
    "        self.deblendFactor = deblendFactor\n",
    "        \n",
    "coaddParams = CoaddParameters(1,   # LSE-81 G157 suggests 2; Jim Bosch suggests this is outdated\n",
    "                              4,   # Per LSE-81 G229\n",
    "                              0.1) # LDM-138 otherInput_2 B21; no obvious justification\n",
    "\n",
    "class TemplateParameters(object):\n",
    "    def __init__(self, templateTypes, templateVersions, templateDepth):\n",
    "        # Number of different types of templates to be prepared\n",
    "        self.nTypes = templateTypes\n",
    "        # Different versions corresponding to e.g. differing airmass\n",
    "        self.nVersions = templateVersions\n",
    "        # Number of images being coadded for each template\n",
    "        self.depth = templateDepth\n",
    "        \n",
    "templateParams = TemplateParameters(6, # One per filter\n",
    "                                    3, # Per LSE-81 G166\n",
    "                                    5) # Per LSE-81 G228"
   ]
  },
  {
   "cell_type": "markdown",
   "metadata": {},
   "source": [
    "## Stack processing\n",
    "\n",
    "We are now ready to quantify the various processing stages the stack goes through. Here, following LDM-138, we include difference imaging, generation of coadds (both deep coadds for measurement and templates for differencing), detection and measurement of sources and coadds, and multi-epoch object characterization. We do *not* include single frame measurement or astro- or photo-metric relative calibration. (Presumably because they don't run at the same time on the same hardware, but it's not completely clear why.)\n",
    "\n",
    "### Generate difference images\n",
    "\n",
    "According to [DM-3274](https://jira.lsstcorp.org/browse/DM-3274), difference imaging (with no associated source measurement) was benchmarked as taking 35 seconds per CCD on 2k by 4k CCDs when run on `lsst-dev`. We expect this to scale linearly with pixel count to the 4k by 4k CCDs used by LSST since it is involves applying a kernel to each pixel. We therefore estimate the total time as 70 seconds per CCD."
   ]
  },
  {
   "cell_type": "code",
   "execution_count": 19,
   "metadata": {
    "collapsed": false
   },
   "outputs": [
    {
     "data": {
      "text/latex": [
       "$5.6392875 \\times 10^{18} \\; \\mathrm{cycle}$"
      ],
      "text/plain": [
       "<Quantity 5.6392875e+18 cycle>"
      ]
     },
     "execution_count": 19,
     "metadata": {},
     "output_type": "execute_result"
    }
   ],
   "source": [
    "def calcDiffimCycles(timePerCcd, telescope, survey, computer):\n",
    "    return timePerCcd * telescope.nCcds * survey.nVisits * computer.clockSpeed\n",
    "\n",
    "diffimCycles = calcDiffimCycles(70*u.second, lsst, lsstWideAndFastDR1, lsst_dev)\n",
    "diffimCycles"
   ]
  },
  {
   "cell_type": "markdown",
   "metadata": {},
   "source": [
    "### Constructing coadds\n",
    "\n",
    "We construct two types of coadds: templates for difference imaging and deep coadds for measurement. The time to warp-and-add a CCD image to the coadd is the same for both, but the number and depth of the coadds created are different.\n",
    "\n",
    "The warp-and-add step is contained within the `makeCoaddTempExp` and `assembleCoadd` tasks. We it using HSC engineering data on `tiger3`. Each coadd consisted of 60 calibrated exposures (`calexp`s) from HSC, each 2k by 4k pixels. We assume that the time scales linear with number of pixels to LSST's 4k by 4k CCDs."
   ]
  },
  {
   "cell_type": "code",
   "execution_count": 42,
   "metadata": {
    "collapsed": false
   },
   "outputs": [
    {
     "data": {
      "text/latex": [
       "$7.3056667 \\; \\mathrm{s}$"
      ],
      "text/plain": [
       "<Quantity 7.305666666666666 s>"
      ]
     },
     "execution_count": 42,
     "metadata": {},
     "output_type": "execute_result"
    }
   ],
   "source": [
    "nCalexps, hscToLsstScale = 60, 2\n",
    "makeTempExpTime = u.second * ((190.72 - 10.17) + (189.47 - 10.24))/2 # Measurement repeated to check for consistency\n",
    "assembleCoaddTime = u.second * ((49.31 - 10.24) + (49.22 - 9.73))/2\n",
    "coaddCcdTime = hscToLsstScale * (makeTempExpTime + assembleCoaddTime) / nCalexps\n",
    "coaddCcdTime"
   ]
  },
  {
   "cell_type": "markdown",
   "metadata": {},
   "source": [
    "However, this may not be a reliable estimate of the coaddition time in practice. Previous versions of this calculation have assumed that coaddition was similar to differencing imaging (\"warp + arithmetic\") and, as per above, the difference imaging calculation is a factor of ~10 larger. This is likely because differencing also involves PSF matching, an operation which may dominate the run time, and which is required for some times of coaddition but which is not included in the figure above."
   ]
  },
  {
   "cell_type": "markdown",
   "metadata": {},
   "source": [
    "### Generate difference templates"
   ]
  },
  {
   "cell_type": "code",
   "execution_count": 43,
   "metadata": {
    "collapsed": false
   },
   "outputs": [
    {
     "data": {
      "text/latex": [
       "$9.0607298 \\times 10^{17} \\; \\mathrm{cycle}$"
      ],
      "text/plain": [
       "<Quantity 9.060729763679999e+17 cycle>"
      ]
     },
     "execution_count": 43,
     "metadata": {},
     "output_type": "execute_result"
    }
   ],
   "source": [
    "def calcTemplateCoadditionCycles(timePerCcd, coaddParams, templateParams,\n",
    "                                 telescope, survey, computer):\n",
    "    return (timePerCcd * telescope.nCcds * coaddParams.pixelDensityFactor * \n",
    "            survey.nFields * templateParams.nTypes * templateParams.nVersions *\n",
    "            templateParams.depth * computer.clockSpeed)\n",
    "    \n",
    "templateCycles = calcTemplateCoadditionCycles(coaddCcdTime, coaddParams, templateParams,\n",
    "                                              lsst, lsstWideAndFastDR1, tiger3)\n",
    "templateCycles"
   ]
  },
  {
   "cell_type": "markdown",
   "metadata": {},
   "source": [
    "### Generate deep coadds\n",
    "\n",
    "The time taken to coadd CCDs was as the combined runtime of `makeCoaddTempExp` and `assembleCoadd` run on HSC engineering data on `tiger3.princeton.edu` using version `v11_0_rc2` of the stack."
   ]
  },
  {
   "cell_type": "code",
   "execution_count": 44,
   "metadata": {
    "collapsed": false
   },
   "outputs": [
    {
     "data": {
      "text/latex": [
       "$1.769458 \\times 10^{18} \\; \\mathrm{cycle}$"
      ],
      "text/plain": [
       "<Quantity 1.7694580365e+18 cycle>"
      ]
     },
     "execution_count": 44,
     "metadata": {},
     "output_type": "execute_result"
    }
   ],
   "source": [
    "def calcDeepCoadditionCycles(timePerCcd, coaddParams, telescope, survey, computer):\n",
    "    # Note that each time an image is reused, it will need to be re-warped, so this effect is multiplicative\n",
    "    return timePerCcd * telescope.nCcds * computer.clockSpeed * coaddParams.imageReuse * survey.nVisits\n",
    "\n",
    "deepCoaddCycles = calcDeepCoadditionCycles(coaddCcdTime, coaddParams, lsst, lsstWideAndFastDR1, abe)\n",
    "deepCoaddCycles"
   ]
  },
  {
   "cell_type": "markdown",
   "metadata": {},
   "source": [
    "### Coadd source detection and measurement\n",
    "\n",
    "Sources will be detected and measured on all coadds generated in the previous step. This will populate the catalog of `CoaddSources`. The detection and measurement are two separate steps, but we can use the same basic logic (with different timing) for both."
   ]
  },
  {
   "cell_type": "code",
   "execution_count": 34,
   "metadata": {
    "collapsed": false
   },
   "outputs": [
    {
     "data": {
      "text/latex": [
       "$1.4736887 \\times 10^{17} \\; \\mathrm{cycle}$"
      ],
      "text/plain": [
       "<Quantity 1.4736887458524e+17 cycle>"
      ]
     },
     "execution_count": 34,
     "metadata": {},
     "output_type": "execute_result"
    }
   ],
   "source": [
    "def calcCoaddProcessCycles(timePerCcd, coaddParams, telescope, survey, computer):\n",
    "    perCoadd = (timePerCcd * telescope.nCcds * computer.clockSpeed * coaddParams.pixelDensityFactor *\n",
    "                (coaddParams.deblendFactor + 1))\n",
    "    coaddsPerField = telescope.nFilters + 1 # One per filter, plus combined\n",
    "    return perCoadd * coaddsPerField * survey.nFields\n",
    "\n",
    "coaddSrcDetCycles = calcCoaddProcessCycles(6.19*u.second, coaddParams, lsst, lsstWideAndFastDR1, abe)\n",
    "coaddSrcMeasCycles = calcCoaddProcessCycles(10.50*u.second, coaddParams, lsst, lsstWideAndFastDR1, abe)\n",
    "coaddProcessCycles = coaddSrcDetCycles + coaddSrcMeasCycles\n",
    "coaddProcessCycles"
   ]
  },
  {
   "cell_type": "markdown",
   "metadata": {},
   "source": [
    "### Multi-epoch object characterization\n",
    "\n",
    "We don't have a great way to quantify multifit performance. However, the combination of multifit and forced source processing will be roughly equivalent to measuring every non-galactic-plane source in every epoch. Note that we are relying on the coadd measurements for in-plane sources."
   ]
  },
  {
   "cell_type": "code",
   "execution_count": 35,
   "metadata": {
    "collapsed": false
   },
   "outputs": [
    {
     "data": {
      "text/latex": [
       "$2.0535291 \\times 10^{20} \\; \\mathrm{cycle}$"
      ],
      "text/plain": [
       "<Quantity 2.053529076379699e+20 cycle>"
      ]
     },
     "execution_count": 35,
     "metadata": {},
     "output_type": "execute_result"
    }
   ],
   "source": [
    "def calcMultiEpochCycles(timePerObject, survey, computer):\n",
    "    galacticPlaneObjects = survey.nStars - survey.nOutOfPlaneStars\n",
    "    galacticPlaneForcedSrcs = galacticPlaneObjects * survey.nEpochs\n",
    "    outOfPlaneForcedSrcs = survey.nForcedSources - galacticPlaneForcedSrcs\n",
    "    return outOfPlaneForcedSrcs * timePerObject * computer.clockSpeed\n",
    "\n",
    "multiEpochCycles = calcMultiEpochCycles(0.096*u.second, lsstWideAndFastDR1, lsst_dev)\n",
    "multiEpochCycles"
   ]
  },
  {
   "cell_type": "markdown",
   "metadata": {},
   "source": [
    "### Alert SQDA\n",
    "\n",
    "SDQA Pipeline shall provide low-level data collection functionality for science data quality analysis of Level 1, 2, and Calibration Processing pipelines. It has been prototyped as `pipeQA`, and it's that that these results are based on."
   ]
  },
  {
   "cell_type": "code",
   "execution_count": 36,
   "metadata": {
    "collapsed": false
   },
   "outputs": [
    {
     "data": {
      "text/latex": [
       "$1.92225 \\times 10^{17} \\; \\mathrm{cycle}$"
      ],
      "text/plain": [
       "<Quantity 1.92225e+17 cycle>"
      ]
     },
     "execution_count": 36,
     "metadata": {},
     "output_type": "execute_result"
    }
   ],
   "source": [
    "def calcAlertSDQA(timePerVisit, survey, computer):\n",
    "    return timePerVisit * survey.nVisits * computer.clockSpeed\n",
    "\n",
    "sdqaCycles = calcAlertSDQA(600*u.second, lsstWideAndFastDR1, abe)\n",
    "sdqaCycles"
   ]
  },
  {
   "cell_type": "markdown",
   "metadata": {},
   "source": [
    "## Totals"
   ]
  },
  {
   "cell_type": "code",
   "execution_count": 37,
   "metadata": {
    "collapsed": false
   },
   "outputs": [
    {
     "data": {
      "text/latex": [
       "$5.8209991 \\times 10^{20} \\; \\mathrm{FLOP}$"
      ],
      "text/plain": [
       "<Quantity 5.82099910469151e+20 FLOP>"
      ]
     },
     "execution_count": 37,
     "metadata": {},
     "output_type": "execute_result"
    }
   ],
   "source": [
    "totalCycles = diffimCycles + templateCycles + deepCoaddCycles + coaddProcessCycles + multiEpochCycles + sdqaCycles\n",
    "totalFlop = totalCycles.to(flop)\n",
    "totalFlop"
   ]
  },
  {
   "cell_type": "markdown",
   "metadata": {},
   "source": [
    "The required FLOPS of the compute hardware depends on the duration of the DRP run. The final total is:"
   ]
  },
  {
   "cell_type": "code",
   "execution_count": 38,
   "metadata": {
    "collapsed": false
   },
   "outputs": [
    {
     "data": {
      "text/latex": [
       "$106.94075 \\; \\mathrm{TFLOPS}$"
      ],
      "text/plain": [
       "<Quantity 106.94075368701336 TFLOPS>"
      ]
     },
     "execution_count": 38,
     "metadata": {},
     "output_type": "execute_result"
    }
   ],
   "source": [
    "(totalFlop / lsstWideAndFastDR1.computeTime).to(tflops)"
   ]
  },
  {
   "cell_type": "markdown",
   "metadata": {},
   "source": [
    "Excluding any potential future algorithmic efficiency improvements."
   ]
  }
 ],
 "metadata": {
  "kernelspec": {
   "display_name": "Python 3",
   "language": "python",
   "name": "python3"
  },
  "language_info": {
   "codemirror_mode": {
    "name": "ipython",
    "version": 3
   },
   "file_extension": ".py",
   "mimetype": "text/x-python",
   "name": "python",
   "nbconvert_exporter": "python",
   "pygments_lexer": "ipython3",
   "version": "3.4.3"
  }
 },
 "nbformat": 4,
 "nbformat_minor": 0
}
